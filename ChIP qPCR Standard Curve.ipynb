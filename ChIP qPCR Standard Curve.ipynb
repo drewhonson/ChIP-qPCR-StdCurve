{
 "cells": [
  {
   "cell_type": "code",
   "execution_count": 48,
   "metadata": {},
   "outputs": [
    {
     "name": "stdout",
     "output_type": "stream",
     "text": [
      "        InputConc     MeanCp    STD Cp\n",
      "Primer                                \n",
      "Zfp90       20.00  22.267672  0.047477\n",
      "Zfp90        5.00  24.587895  0.100128\n",
      "Zfp90        1.25  26.468567  0.338694\n",
      "Zfp90        0.31  28.814097  0.424509\n",
      "Zfp90        0.08  30.112165  0.238396\n",
      "Zfp90        0.02  32.752278  0.741071\n",
      "Zfp369       5.00  24.960153  0.151447\n",
      "Zfp369       1.25  26.869827  0.241661\n",
      "Zfp369       0.31  29.113071  0.141041\n",
      "Zfp369       0.08  30.991892  0.474828\n"
     ]
    }
   ],
   "source": [
    "import pandas as pd\n",
    "reader = pd.read_csv('03.16.2018 qPCR Std.csv')\n",
    "chip_qpcr = pd.DataFrame(data = reader)\n",
    "chip_qpcr.set_index(\"Primer\", inplace=True)\n",
    "print(chip_qpcr.head(10))"
   ]
  },
  {
   "cell_type": "code",
   "execution_count": 22,
   "metadata": {
    "collapsed": true
   },
   "outputs": [],
   "source": [
    "import matplotlib.pyplot as plt"
   ]
  },
  {
   "cell_type": "code",
   "execution_count": 39,
   "metadata": {},
   "outputs": [
    {
     "name": "stdout",
     "output_type": "stream",
     "text": [
      "['PRDM9', 'Zfp369', 'Zfp2', 'Zfp90', 'Gene Desert 1', 'Zfp110', 'Chr7 Neg Ctrl']\n"
     ]
    }
   ],
   "source": [
    "names = list(set(chip_qpcr['Primer']))\n",
    "print(names)"
   ]
  },
  {
   "cell_type": "code",
   "execution_count": 51,
   "metadata": {},
   "outputs": [
    {
     "name": "stdout",
     "output_type": "stream",
     "text": [
      "        InputConc     MeanCp    STD Cp\n",
      "Primer                                \n",
      "PRDM9       20.00  22.344745  0.157228\n",
      "PRDM9        5.00  24.547735  0.030044\n",
      "PRDM9        1.25  26.603003  0.030236\n",
      "PRDM9        0.31  28.854734  0.295770\n",
      "PRDM9        0.08  30.931541  0.282376\n",
      "PRDM9        0.02  32.447600  0.754270\n",
      "        InputConc     MeanCp    STD Cp\n",
      "Primer                                \n",
      "Zfp369       5.00  24.960153  0.151447\n",
      "Zfp369       1.25  26.869827  0.241661\n",
      "Zfp369       0.31  29.113071  0.141041\n",
      "Zfp369       0.08  30.991892  0.474828\n",
      "Zfp369       0.02  32.630540  0.866200\n",
      "Zfp369      20.00  22.753305  0.083122\n",
      "        InputConc     MeanCp    STD Cp\n",
      "Primer                                \n",
      "Zfp2        20.00  22.672241  0.126957\n",
      "Zfp2         5.00  24.990923  0.206538\n",
      "Zfp2         1.25  26.848427  0.154895\n",
      "Zfp2         0.31  29.022551  0.098563\n",
      "Zfp2         0.08  30.931593  0.221087\n",
      "Zfp2         0.02  33.542884  1.145080\n",
      "        InputConc     MeanCp    STD Cp\n",
      "Primer                                \n",
      "Zfp90       20.00  22.267672  0.047477\n",
      "Zfp90        5.00  24.587895  0.100128\n",
      "Zfp90        1.25  26.468567  0.338694\n",
      "Zfp90        0.31  28.814097  0.424509\n",
      "Zfp90        0.08  30.112165  0.238396\n",
      "Zfp90        0.02  32.752278  0.741071\n",
      "               InputConc     MeanCp    STD Cp\n",
      "Primer                                       \n",
      "Gene Desert 1       5.00  23.507567  0.377316\n",
      "Gene Desert 1       1.25  25.090193  0.920233\n",
      "Gene Desert 1       0.31  27.194170  0.457949\n",
      "Gene Desert 1       0.08  29.135650  0.688172\n",
      "Gene Desert 1       0.02  31.366208  1.682412\n",
      "Gene Desert 1      20.00  20.318350  0.738518\n",
      "        InputConc     MeanCp    STD Cp\n",
      "Primer                                \n",
      "Zfp110      20.00  27.440112  0.534994\n",
      "Zfp110       5.00  30.592312  0.160089\n",
      "Zfp110       1.25  32.900612  0.495420\n",
      "Zfp110       0.31  35.280987  0.461325\n",
      "Zfp110       0.08  38.048124  1.690389\n",
      "Zfp110       0.02  40.000000  0.000000\n",
      "               InputConc     MeanCp    STD Cp\n",
      "Primer                                       \n",
      "Chr7 Neg Ctrl       5.00  26.051782  0.037120\n",
      "Chr7 Neg Ctrl       1.25  28.187698  0.114837\n",
      "Chr7 Neg Ctrl       0.31  30.370700  0.311181\n",
      "Chr7 Neg Ctrl       0.08  32.503781  0.273845\n",
      "Chr7 Neg Ctrl       0.02  34.451478  0.365662\n",
      "Chr7 Neg Ctrl      20.00  23.927623  0.222839\n"
     ]
    }
   ],
   "source": [
    "for i in names:\n",
    "    print(chip_qpcr.loc[i])"
   ]
  },
  {
   "cell_type": "code",
   "execution_count": null,
   "metadata": {
    "collapsed": true
   },
   "outputs": [],
   "source": []
  }
 ],
 "metadata": {
  "kernelspec": {
   "display_name": "Python 3",
   "language": "python",
   "name": "python3"
  },
  "language_info": {
   "codemirror_mode": {
    "name": "ipython",
    "version": 3
   },
   "file_extension": ".py",
   "mimetype": "text/x-python",
   "name": "python",
   "nbconvert_exporter": "python",
   "pygments_lexer": "ipython3",
   "version": "3.6.1"
  }
 },
 "nbformat": 4,
 "nbformat_minor": 2
}
